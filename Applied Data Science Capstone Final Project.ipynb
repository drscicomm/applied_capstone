{
    "cells": [
        {
            "cell_type": "markdown",
            "metadata": {
                "collapsed": true
            },
            "source": "The Battle of Neighborhoods: Best Bars \n\nIntroduction:\n\nRecently, there has been a massive influx of young people moving to and working in Toronto. A market analysis showed that these young singles are looking to move to neighborhoods with fun, modern bars that cater to the post-work crowd. The purpose of this project is to help these young professionals determine which neighborhoods they should live in that has the best happy hour spots, which are also affordable and easy to move into."
        },
        {
            "cell_type": "markdown",
            "metadata": {},
            "source": "The Problem:\n\nThe major purpose of this project is to provide a list of neighborhoods in Toronto for young professionals looking to move to a place with great (and open) housing as well as a bustling nightlife. suggest a better neighborhood in a new city for the person who are shiffting there. We will also show locations and examples of where the young people may be working and proximity to the best happy hour spots.\n\nWe will need:\n\nSorted list of housing in terms of housing prices in a ascending or descending order\nSorted list of bars and happy hours in terms of location, price, rating and reviews"
        },
        {
            "cell_type": "markdown",
            "metadata": {},
            "source": "The Location:\nToronto is a popular destination for new young professionals, both Canadian and American, to reside. It has a bustling nightlife and economy.\n\nFoursquare API:\nThis project would use Four-square API as its prime data gathering source as it has a database of millions of places, especially their places API which provides the ability to perform location search, location sharing and details about a business.\n\nWork Flow:\nUsing credentials of Foursquare API features of near-by places of the neighborhoods would be mined. Due to http request limitations the number of places per neighborhood parameter would reasonably be set to 100 and the radius parameter would be set to 500.\n\nClustering Approach:\nTo make recommendations on where to live, we explored, segmented, and clusted bars, open housing within neighborhoods and grouped them into clusters to make recommendations. To be able to do that, we need to cluster data which is a form of unsupervised machine learning: k-means clustering algorithm.\n\nLibraries Which are Used to Develope the Project:\nPandas: For creating and manipulating dataframes.\n\nFolium: Python visualization library would be used to visualize the neighborhoods cluster distribution of using interactive leaflet map.\n\nScikit Learn: For importing k-means clustering.\n\nJSON: Library to handle JSON files.\n\nXML: To separate data from presentation and XML stores data in plain text format.\n\nGeocoder: To retrieve Location Data.\n\nBeautiful Soup and Requests: To scrap and library to handle http requests.\n\nMatplotlib: Python Plotting Module."
        }
    ],
    "metadata": {
        "kernelspec": {
            "display_name": "Python 3.7",
            "language": "python",
            "name": "python3"
        },
        "language_info": {
            "codemirror_mode": {
                "name": "ipython",
                "version": 3
            },
            "file_extension": ".py",
            "mimetype": "text/x-python",
            "name": "python",
            "nbconvert_exporter": "python",
            "pygments_lexer": "ipython3",
            "version": "3.7.10"
        }
    },
    "nbformat": 4,
    "nbformat_minor": 1
}